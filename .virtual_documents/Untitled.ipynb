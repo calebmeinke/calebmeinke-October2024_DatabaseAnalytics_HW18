import pandas as pd
from geopy.geocoders import Nominatim
from time import sleep


# Load the dataset
file_path = "Resources/2023_citibike_sample.csv"
df = pd.read_csv(file_path, low_memory=False)

# Display the first few rows
df.head()


# Initialize the geocoder
geolocator = Nominatim(user_agent="citibike_borough_lookup")

# Function to reverse geocode
def get_borough(lat, lon):
    try:
        location = geolocator.reverse((lat, lon), exactly_one=True)
        address = location.raw.get("address", {})
        return address.get("borough", address.get("city", address.get("county", "Unknown")))
    except:
        return "Unknown"

# Apply geocoding to start locations
df["borough"] = df.apply(lambda row: get_borough(row["start_lat"], row["start_lng"]), axis=1)

# Save the updated file with boroughs
output_file = "Resources/2023_citibike_with_boroughs.csv"
df.to_csv(output_file, index=False)



